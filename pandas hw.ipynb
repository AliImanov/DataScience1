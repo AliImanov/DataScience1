{
 "cells": [
  {
   "cell_type": "code",
   "execution_count": 1,
   "id": "945e6724",
   "metadata": {},
   "outputs": [],
   "source": [
    "#pandasi import et"
   ]
  },
  {
   "cell_type": "code",
   "execution_count": 2,
   "id": "8a6667d1",
   "metadata": {},
   "outputs": [],
   "source": [
    "# datani import et"
   ]
  },
  {
   "cell_type": "code",
   "execution_count": 10,
   "id": "6366726c",
   "metadata": {},
   "outputs": [],
   "source": [
    "# head,tail, descirbe, info, melumatlarina bax"
   ]
  },
  {
   "cell_type": "code",
   "execution_count": 4,
   "id": "74a0cc6d",
   "metadata": {},
   "outputs": [],
   "source": [
    "# raitingi 6.5 den boyuk olub voiting 5000+ olan row`lari goster"
   ]
  },
  {
   "cell_type": "code",
   "execution_count": null,
   "id": "cd53fc4d",
   "metadata": {},
   "outputs": [],
   "source": [
    "# certificate column da nece ferqli input var? \n",
    "# her birinin sayisi nedir/\n"
   ]
  },
  {
   "cell_type": "code",
   "execution_count": 9,
   "id": "71bb07fa",
   "metadata": {},
   "outputs": [],
   "source": [
    "# duration column u integere cevir"
   ]
  },
  {
   "cell_type": "code",
   "execution_count": null,
   "id": "5edd9245",
   "metadata": {},
   "outputs": [],
   "source": [
    "# certificate kolununa gore ortalama duration goster\n",
    "# elde etdiyin melumati orginal dataya join et"
   ]
  },
  {
   "cell_type": "code",
   "execution_count": null,
   "id": "7f93fbbd",
   "metadata": {},
   "outputs": [],
   "source": [
    "# Genresi Drama olan durations 30+ olan ratingi 5+ olan voitingi ise 100k ve 200k arasi olan rowlari goster"
   ]
  }
 ],
 "metadata": {
  "kernelspec": {
   "display_name": "Python 3 (ipykernel)",
   "language": "python",
   "name": "python3"
  },
  "language_info": {
   "codemirror_mode": {
    "name": "ipython",
    "version": 3
   },
   "file_extension": ".py",
   "mimetype": "text/x-python",
   "name": "python",
   "nbconvert_exporter": "python",
   "pygments_lexer": "ipython3",
   "version": "3.9.12"
  }
 },
 "nbformat": 4,
 "nbformat_minor": 5
}
